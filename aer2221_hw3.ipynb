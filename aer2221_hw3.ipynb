{
 "cells": [
  {
   "cell_type": "markdown",
   "metadata": {},
   "source": [
    "__Problem 1:__ (40 points)\n",
    "Using the 51 [Electoral College](https://www.archives.gov/electoral-college/2000) numbers that were used in the 2000 USA Presidential Election, estimate the number of ways there could have been a tie in the 2000 Presidential Election.  Use Monte Carlo simulation (using *iid* Bernoulli (1/2); e.g., a fair coin flip for each state) to simulate many elections. The fraction of elections that end in tie multiplied by the number of possible outcomes is your estimate. The exact answer to this question was determined in 2009 by K. Sigman and O. Watanabe to be 17,150,271,124,366. Your estimate should be fairly close to that number. \n",
    "\n",
    "\n",
    "Repeat using the [EC numbers](https://www.archives.gov/electoral-college/2020) from the 2020 election. That is create a new list of EC values and feed it to your function."
   ]
  },
  {
   "cell_type": "code",
   "execution_count": 5,
   "metadata": {},
   "outputs": [
    {
     "name": "stdout",
     "output_type": "stream",
     "text": [
      "result 2000:  17464959354942.783\n",
      "result 2020:  17039369190156.271\n"
     ]
    }
   ],
   "source": [
    "import random\n",
    "\n",
    "#list of the number of electoral college votes each state had in the 2000 presidential election\n",
    "v_2000 = [9,3,8,6,54,8,8,3,3,25,13,4,4,22,12,7,6,8,9,4,10,12,18,10,7,11,3,5,4,4,15,5,33,\n",
    "          14,3,21,8,7,23,4,8,3,11,32,5,3,13,11,5,11,3]\n",
    "\n",
    "#list of the number of electoral college votes each state had in the 2020 presidential election\n",
    "v_2020 = [9,3,11,6,55,9,7,3,3,29,16,4,4,20,11,6,6,8,8,4,10,11,16,10,6,10,3,5,6,4,14,5,29,\n",
    "          15,3,18,7,7,20,4,9,3,11,38,6,3,13,12,5,10,3]\n",
    "\n",
    "# create the function below to return the number of ways\n",
    "# a particular Electoral College outcome may happen\n",
    "# the parameters are as follows:\n",
    "# ec: this is the list of EC values to be used in your simulation\n",
    "# target: this is the number of EC values candidate 1 should win\n",
    "# trials: this is the number of trials you MC simulation should use\n",
    "def target_estimator(ec,target,trials):\n",
    "    success=0\n",
    "    for i in range(trials):\n",
    "        outcomes=[random.random()<.5 for i in range(len(ec))]\n",
    "        ec_outcomes=[ec[i] if outcomes[i] else 0 for i in range(len(outcomes))]\n",
    "        if sum(ec_outcomes)==target:\n",
    "            success=success+1\n",
    "    \n",
    "    return (success/trials)*(2**51)\n",
    "    \n",
    "# now we use the function to determine the number of ways a tie can occur\n",
    "# which is equivalent to candidate 1 winning 269 votes\n",
    "result_2000 = target_estimator(v_2000,269,1000000)\n",
    "result_2020 = target_estimator(v_2020,269,1000000)\n",
    "\n",
    "print('result 2000: ',result_2000)\n",
    "print('result 2020: ',result_2020)"
   ]
  },
  {
   "cell_type": "markdown",
   "metadata": {},
   "source": [
    "__Problem 2:__ In the year 2000 (Bush versus Gore), the situation right before the election was this: Bush had (in his pocket) 24 states totaling 210 EC votes, while Gore had 10 states totaling 146 EC votes. There were 17 states left over, the “Battleground States”, in which it was supposedly unclear who would win them. Look at the file [2000.pdf](http://www.cs.columbia.edu/~cannon/2000.pdf) to see exactly what states made up the 17, and the EC numbers for them.\n",
    "\n",
    "__Part I:__ (30 points) First assume that each Battleground State outcome is determined by an *iid* fair coin toss; Bernoulli (1/2). Simulate (using 1 million copies to average, using Monte Carlo) to obtain the probability that Bush would win the election, and the probability that Gore would win the election, and the probability of a tie."
   ]
  },
  {
   "cell_type": "code",
   "execution_count": 22,
   "metadata": {},
   "outputs": [
    {
     "name": "stdout",
     "output_type": "stream",
     "text": [
      "Bush win:  0.879186\n",
      "Gore win:  0.112813\n",
      "tie:  0.007582\n",
      "tie:  0.007527\n"
     ]
    }
   ],
   "source": [
    "#list containing the number of electoral college votes each of 17 battleground states had in 2000 election\n",
    "v_in_play= [6,3,25,22,7,4,18,10,11,4,4,7,23,11,11,5,11]\n",
    "\n",
    "# this function returns an estimate for the probability that candidate 1\n",
    "# wins in a US Presidential election given that they already have\n",
    "# ec_in_the_bag EC votes.\n",
    "# v_left is a list of the remaining EC numbers,\n",
    "# trials is the number of trials to be used in the MC simulation.\n",
    "# This function assumes that the probability of winning any remaining state\n",
    "# is 0.5\n",
    "\n",
    "def ec_estimator(ec_in_the_bag,v_left,trials):\n",
    "    count=0\n",
    "    for i in range(trials):\n",
    "        outcomes=[random.random()<.5 for i in range(len(v_left))]\n",
    "        ec_outcomes=[v_left[i] if outcomes[i] else 0 for i in range(len(outcomes))]\n",
    "        if sum(ec_outcomes)>269-(ec_in_the_bag):\n",
    "            count=count+1\n",
    "  \n",
    "    return count/trials\n",
    "        \n",
    "\n",
    "# estimate for Bush win\n",
    "print('Bush win: ',ec_estimator(210,v_in_play,1000000))\n",
    "\n",
    "# estimate for Gore win\n",
    "print('Gore win: ',ec_estimator(146,v_in_play,1000000))\n",
    "\n",
    "#estimate for Tie\n",
    "print('tie: ',target_estimator(v_in_play,269-146,1000000)/2**51)\n",
    "\n",
    "#check that it's the same (close) with\n",
    "print('tie: ',target_estimator(v_in_play,269-210,1000000)/2**51)\n",
    "\n"
   ]
  },
  {
   "cell_type": "markdown",
   "metadata": {},
   "source": [
    " __Part II:__ (30 points) In the [2000.pdf](http://www.cs.columbia.edu/~cannon/2000.pdf) file, you will also see the probabilities that had been determined by extensive polling for Gore winning each of the 17 states. Denote these probabilities by $p_1,...,p_{17}$. No longer are they all *p = 1/2* as we assumed in Part I. For example, for the state of Wisconsin (WI), *p = 0.946*, while for the state of Nevada (NV), p = 0.146. Only for the state of Maine (ME) is p = 0.5. Now re-do the simulation in Part I using the 17 Bernoulli $(p_i)$. The idea now is that each of the 17 states has its own coin so to speak."
   ]
  },
  {
   "cell_type": "markdown",
   "metadata": {},
   "source": [
    "## Explanation of Design and Style Choices\n",
    "\n",
    "First, I created a parameterized function because doing so allows the function to be re-used (as opposed to hard-coding it) in the future with different parameters. It makes for a more flexible, functional, and universal problem-solving strategy.\n",
    "\n",
    "Second, I used a list of *tuples* for the function because tuples are immutable. This makes them run faster than mutable datatypes, especially at large scales. Additionally, tuples make the function \"safer\"/more robust in that it does not rely on the unity of multiple parallel lists (that might accidentally get changed at some point in the process) to operate properly. \n",
    "\n",
    "Finally, I found the probability of a tie via subtraction at the end because ultimately I thought it was simpler than attempting to calculate a tie within the function itself, which would either require new, unique parameters or multiple extra steps within the function itself."
   ]
  },
  {
   "cell_type": "code",
   "execution_count": 26,
   "metadata": {},
   "outputs": [
    {
     "name": "stdout",
     "output_type": "stream",
     "text": [
      "Gore win:  0.846993\n",
      "Bush win:  0.14218\n",
      "Tie: 0.01134\n"
     ]
    }
   ],
   "source": [
    "#each tuple has:\n",
    "#1.Gore's probability of winning a battleground state \n",
    "#2.that state's number of electoral college votes\n",
    "gore_tuple=[(.395,6),(.143,3),(.893,25),(.999,22),(.420,7),(.500,4),(.997,18),\n",
    "               (.999, 10),(.236,11),(.146,4),(.731,4),(.602,7),\n",
    "               (.989,23),(.289,11),(.753,11),(.302,5),(.946,11)]\n",
    "\n",
    "#each tuple has:\n",
    "#1.Bush's probability of winning a battleground state \n",
    "#2.that state's number of electoral college votes\n",
    "bush_tuple=[(.605,6),(.857,3),(.107,25),(.001,22),(.58,7),(.5,4),(.003,18),\n",
    "               (.001, 10),(.764,11),(.854,4),(.269,4),(.398,7),\n",
    "               (.011,23),(.711,11),(.247,11),(.698,5),(.054,11)]\n",
    "\n",
    "\n",
    "#parameters are:\n",
    "#1. number of electoral college votes a candidate already has\n",
    "#2. list of tuples with candidate's probability of winning a state and that state's EC votes\n",
    "#3. number of trials (number of times you want to run the function)\n",
    "def precise_ec_estimator(ec_in_the_bag,election_tuple,trials):\n",
    "    #count keeps track of how many time a candidate wins/gets EC votes over 270\n",
    "    count=0\n",
    "    \n",
    "    #for loop for number of trials given\n",
    "    for j in range(trials):\n",
    "        #creates list of T/F values using randomly generated numbers \n",
    "        #list represents whether or not candidate wins a state\n",
    "        outcomes=[random.random()<election_tuple[i][0] for i in range(len(election_tuple))]\n",
    "        #using list of T/F values, create new list based off of EC values of each state won\n",
    "        ec_outcomes=[election_tuple[i][1] if outcomes[i] else 0 for i in range(len(outcomes))]\n",
    "        #sum the amount of EC values won, check if puts a candidate over 270 votes\n",
    "        if sum(ec_outcomes)>(269-(ec_in_the_bag)):\n",
    "            count=count+1\n",
    "\n",
    "    #finds average amount of times a candidate won \n",
    "    return (count/trials)\n",
    "\n",
    "\n",
    "# estimate for probability of Gore win\n",
    "print('Gore win: ', precise_ec_estimator(146,gore_tuple,1000000))\n",
    "\n",
    "# estimate for probability of Bush win\n",
    "print('Bush win: ', precise_ec_estimator(210,bush_tuple,1000000))\n",
    "\n",
    "#estimate for tie by subtracting probability of Bush win and Gore win from 1 \n",
    "#any amount left over after subtraction is probability of tie\n",
    "prob_tie=1-precise_ec_estimator(210,bush_tuple,1000000)-precise_ec_estimator(146,gore_tuple,1000000)\n",
    "print(\"Tie:\",\"%.5f\" % prob_tie)"
   ]
  }
 ],
 "metadata": {
  "kernelspec": {
   "display_name": "Python 3",
   "language": "python",
   "name": "python3"
  },
  "language_info": {
   "codemirror_mode": {
    "name": "ipython",
    "version": 3
   },
   "file_extension": ".py",
   "mimetype": "text/x-python",
   "name": "python",
   "nbconvert_exporter": "python",
   "pygments_lexer": "ipython3",
   "version": "3.8.8"
  }
 },
 "nbformat": 4,
 "nbformat_minor": 1
}
